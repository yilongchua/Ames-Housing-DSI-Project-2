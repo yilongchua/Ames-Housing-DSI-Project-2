{
 "cells": [
  {
   "cell_type": "markdown",
   "metadata": {},
   "source": [
    "# Linear Regression and modelling\n",
    "\n",
    "### Approach\n",
    "1. Import libraries\n",
    "2. import Dataframes from CSV\n",
    "3. Basic MLR on all features without transformation\n",
    "4. Run Ridge and lasso on train dataframe and compare using R2 score and RSME score to see which model perform better\n",
    "5. A.(Adopt Ridge) Due to better results\n",
    "5. B.Based on the results evulate top 25 features\n",
    "6. Run evaluation on top 25 features using Ridge\n",
    "7. Run Evaluation on All features(133 features) using Ridge (** Highest Score obtained)\n",
    "8. Use step 6. top 25 features-> apply polynomial features power 2\n",
    "9. Run All 350 polynomial features on Ridge\n",
    "10. Run top 25 features using Ridge\n",
    "11. Find Best score via Kaggle upload"
   ]
  },
  {
   "cell_type": "markdown",
   "metadata": {},
   "source": [
    "### Things to improve on, \n",
    "1. use grid search\n",
    "2. use RFE sklearn "
   ]
  },
  {
   "cell_type": "markdown",
   "metadata": {},
   "source": [
    "## Import Libraries"
   ]
  },
  {
   "cell_type": "code",
   "execution_count": 1,
   "metadata": {},
   "outputs": [],
   "source": [
    "#import all relevant libs\n",
    "import pandas as pd\n",
    "import numpy as np\n",
    "import scipy.stats as stats\n",
    "import math\n",
    "import random\n",
    "import pandas_profiling\n",
    "\n",
    "import matplotlib.pyplot as plt\n",
    "%matplotlib inline\n",
    "import seaborn as sns\n",
    "sns.set_style('darkgrid')\n",
    "import os\n",
    "from IPython.display import display\n",
    "import fnmatch\n",
    "\n",
    "#sklibrary\n",
    "from sklearn.model_selection import train_test_split, cross_val_score, GridSearchCV\n",
    "from sklearn.linear_model import LinearRegression, RidgeCV, LassoCV, ElasticNet, Lasso, Ridge\n",
    "from sklearn.preprocessing import StandardScaler, LabelEncoder, PolynomialFeatures\n",
    "from sklearn.metrics import r2_score, mean_squared_error\n",
    "import warnings\n",
    "warnings.simplefilter(action='ignore', category=FutureWarning)\n"
   ]
  },
  {
   "cell_type": "markdown",
   "metadata": {},
   "source": [
    "## Import csv"
   ]
  },
  {
   "cell_type": "code",
   "execution_count": 2,
   "metadata": {},
   "outputs": [],
   "source": [
    "df_train = pd.read_csv('df_train.csv')\n",
    "df_test  = pd.read_csv('df_test.csv')"
   ]
  },
  {
   "cell_type": "code",
   "execution_count": 3,
   "metadata": {},
   "outputs": [
    {
     "data": {
      "text/html": [
       "<div>\n",
       "<style scoped>\n",
       "    .dataframe tbody tr th:only-of-type {\n",
       "        vertical-align: middle;\n",
       "    }\n",
       "\n",
       "    .dataframe tbody tr th {\n",
       "        vertical-align: top;\n",
       "    }\n",
       "\n",
       "    .dataframe thead th {\n",
       "        text-align: right;\n",
       "    }\n",
       "</style>\n",
       "<table border=\"1\" class=\"dataframe\">\n",
       "  <thead>\n",
       "    <tr style=\"text-align: right;\">\n",
       "      <th></th>\n",
       "      <th>Id</th>\n",
       "      <th>Gr Liv Area</th>\n",
       "      <th>Total Bsmt SF</th>\n",
       "      <th>Garage Area</th>\n",
       "      <th>Garage Cars</th>\n",
       "      <th>Total Bath</th>\n",
       "      <th>age_property</th>\n",
       "      <th>age_renovated</th>\n",
       "      <th>TotRms AbvGrd</th>\n",
       "      <th>Mas Vnr Area</th>\n",
       "      <th>...</th>\n",
       "      <th>Garage Type_CarPort</th>\n",
       "      <th>Exterior 1st_AsphShn</th>\n",
       "      <th>Lot Config_FR2</th>\n",
       "      <th>Lot Config_FR3</th>\n",
       "      <th>Heating_Grav</th>\n",
       "      <th>MS Zoning_RM</th>\n",
       "      <th>Exterior 2nd_ImStucc</th>\n",
       "      <th>Neighborhood_Greens</th>\n",
       "      <th>Sale Type_ConLw</th>\n",
       "      <th>Neighborhood_Edwards</th>\n",
       "    </tr>\n",
       "  </thead>\n",
       "  <tbody>\n",
       "    <tr>\n",
       "      <td>0</td>\n",
       "      <td>109</td>\n",
       "      <td>1479</td>\n",
       "      <td>725.0</td>\n",
       "      <td>475.0</td>\n",
       "      <td>2.0</td>\n",
       "      <td>3.0</td>\n",
       "      <td>43</td>\n",
       "      <td>14</td>\n",
       "      <td>6</td>\n",
       "      <td>289.0</td>\n",
       "      <td>...</td>\n",
       "      <td>0</td>\n",
       "      <td>0</td>\n",
       "      <td>0</td>\n",
       "      <td>0</td>\n",
       "      <td>0</td>\n",
       "      <td>0</td>\n",
       "      <td>0</td>\n",
       "      <td>0</td>\n",
       "      <td>0</td>\n",
       "      <td>0</td>\n",
       "    </tr>\n",
       "    <tr>\n",
       "      <td>1</td>\n",
       "      <td>544</td>\n",
       "      <td>2122</td>\n",
       "      <td>913.0</td>\n",
       "      <td>559.0</td>\n",
       "      <td>2.0</td>\n",
       "      <td>4.0</td>\n",
       "      <td>23</td>\n",
       "      <td>22</td>\n",
       "      <td>8</td>\n",
       "      <td>132.0</td>\n",
       "      <td>...</td>\n",
       "      <td>0</td>\n",
       "      <td>0</td>\n",
       "      <td>0</td>\n",
       "      <td>0</td>\n",
       "      <td>0</td>\n",
       "      <td>0</td>\n",
       "      <td>0</td>\n",
       "      <td>0</td>\n",
       "      <td>0</td>\n",
       "      <td>0</td>\n",
       "    </tr>\n",
       "    <tr>\n",
       "      <td>2</td>\n",
       "      <td>153</td>\n",
       "      <td>1057</td>\n",
       "      <td>1057.0</td>\n",
       "      <td>246.0</td>\n",
       "      <td>1.0</td>\n",
       "      <td>2.0</td>\n",
       "      <td>66</td>\n",
       "      <td>12</td>\n",
       "      <td>5</td>\n",
       "      <td>0.0</td>\n",
       "      <td>...</td>\n",
       "      <td>0</td>\n",
       "      <td>0</td>\n",
       "      <td>0</td>\n",
       "      <td>0</td>\n",
       "      <td>0</td>\n",
       "      <td>0</td>\n",
       "      <td>0</td>\n",
       "      <td>0</td>\n",
       "      <td>0</td>\n",
       "      <td>0</td>\n",
       "    </tr>\n",
       "    <tr>\n",
       "      <td>3</td>\n",
       "      <td>318</td>\n",
       "      <td>1444</td>\n",
       "      <td>384.0</td>\n",
       "      <td>400.0</td>\n",
       "      <td>2.0</td>\n",
       "      <td>3.0</td>\n",
       "      <td>13</td>\n",
       "      <td>12</td>\n",
       "      <td>7</td>\n",
       "      <td>0.0</td>\n",
       "      <td>...</td>\n",
       "      <td>0</td>\n",
       "      <td>0</td>\n",
       "      <td>0</td>\n",
       "      <td>0</td>\n",
       "      <td>0</td>\n",
       "      <td>0</td>\n",
       "      <td>0</td>\n",
       "      <td>0</td>\n",
       "      <td>0</td>\n",
       "      <td>0</td>\n",
       "    </tr>\n",
       "    <tr>\n",
       "      <td>4</td>\n",
       "      <td>255</td>\n",
       "      <td>1445</td>\n",
       "      <td>676.0</td>\n",
       "      <td>484.0</td>\n",
       "      <td>2.0</td>\n",
       "      <td>2.0</td>\n",
       "      <td>119</td>\n",
       "      <td>26</td>\n",
       "      <td>6</td>\n",
       "      <td>0.0</td>\n",
       "      <td>...</td>\n",
       "      <td>0</td>\n",
       "      <td>0</td>\n",
       "      <td>0</td>\n",
       "      <td>0</td>\n",
       "      <td>0</td>\n",
       "      <td>0</td>\n",
       "      <td>0</td>\n",
       "      <td>0</td>\n",
       "      <td>0</td>\n",
       "      <td>0</td>\n",
       "    </tr>\n",
       "  </tbody>\n",
       "</table>\n",
       "<p>5 rows × 133 columns</p>\n",
       "</div>"
      ],
      "text/plain": [
       "    Id  Gr Liv Area  Total Bsmt SF  Garage Area  Garage Cars  Total Bath  \\\n",
       "0  109         1479          725.0        475.0          2.0         3.0   \n",
       "1  544         2122          913.0        559.0          2.0         4.0   \n",
       "2  153         1057         1057.0        246.0          1.0         2.0   \n",
       "3  318         1444          384.0        400.0          2.0         3.0   \n",
       "4  255         1445          676.0        484.0          2.0         2.0   \n",
       "\n",
       "   age_property  age_renovated  TotRms AbvGrd  Mas Vnr Area  ...  \\\n",
       "0            43             14              6         289.0  ...   \n",
       "1            23             22              8         132.0  ...   \n",
       "2            66             12              5           0.0  ...   \n",
       "3            13             12              7           0.0  ...   \n",
       "4           119             26              6           0.0  ...   \n",
       "\n",
       "   Garage Type_CarPort  Exterior 1st_AsphShn  Lot Config_FR2  Lot Config_FR3  \\\n",
       "0                    0                     0               0               0   \n",
       "1                    0                     0               0               0   \n",
       "2                    0                     0               0               0   \n",
       "3                    0                     0               0               0   \n",
       "4                    0                     0               0               0   \n",
       "\n",
       "   Heating_Grav  MS Zoning_RM  Exterior 2nd_ImStucc  Neighborhood_Greens  \\\n",
       "0             0             0                     0                    0   \n",
       "1             0             0                     0                    0   \n",
       "2             0             0                     0                    0   \n",
       "3             0             0                     0                    0   \n",
       "4             0             0                     0                    0   \n",
       "\n",
       "   Sale Type_ConLw  Neighborhood_Edwards  \n",
       "0                0                     0  \n",
       "1                0                     0  \n",
       "2                0                     0  \n",
       "3                0                     0  \n",
       "4                0                     0  \n",
       "\n",
       "[5 rows x 133 columns]"
      ]
     },
     "execution_count": 3,
     "metadata": {},
     "output_type": "execute_result"
    }
   ],
   "source": [
    "df_train.head()"
   ]
  },
  {
   "cell_type": "code",
   "execution_count": 4,
   "metadata": {
    "scrolled": true
   },
   "outputs": [
    {
     "data": {
      "text/html": [
       "<div>\n",
       "<style scoped>\n",
       "    .dataframe tbody tr th:only-of-type {\n",
       "        vertical-align: middle;\n",
       "    }\n",
       "\n",
       "    .dataframe tbody tr th {\n",
       "        vertical-align: top;\n",
       "    }\n",
       "\n",
       "    .dataframe thead th {\n",
       "        text-align: right;\n",
       "    }\n",
       "</style>\n",
       "<table border=\"1\" class=\"dataframe\">\n",
       "  <thead>\n",
       "    <tr style=\"text-align: right;\">\n",
       "      <th></th>\n",
       "      <th>Id</th>\n",
       "      <th>Gr Liv Area</th>\n",
       "      <th>Total Bsmt SF</th>\n",
       "      <th>Garage Area</th>\n",
       "      <th>Garage Cars</th>\n",
       "      <th>Total Bath</th>\n",
       "      <th>age_property</th>\n",
       "      <th>age_renovated</th>\n",
       "      <th>TotRms AbvGrd</th>\n",
       "      <th>Mas Vnr Area</th>\n",
       "      <th>...</th>\n",
       "      <th>Garage Type_CarPort</th>\n",
       "      <th>Exterior 1st_AsphShn</th>\n",
       "      <th>Lot Config_FR2</th>\n",
       "      <th>Lot Config_FR3</th>\n",
       "      <th>Heating_Grav</th>\n",
       "      <th>MS Zoning_RM</th>\n",
       "      <th>Exterior 2nd_ImStucc</th>\n",
       "      <th>Neighborhood_Greens</th>\n",
       "      <th>Sale Type_ConLw</th>\n",
       "      <th>Neighborhood_Edwards</th>\n",
       "    </tr>\n",
       "  </thead>\n",
       "  <tbody>\n",
       "    <tr>\n",
       "      <td>0</td>\n",
       "      <td>2658</td>\n",
       "      <td>1928</td>\n",
       "      <td>1020.0</td>\n",
       "      <td>440.0</td>\n",
       "      <td>1.0</td>\n",
       "      <td>2.0</td>\n",
       "      <td>109</td>\n",
       "      <td>69</td>\n",
       "      <td>9</td>\n",
       "      <td>0.0</td>\n",
       "      <td>...</td>\n",
       "      <td>0</td>\n",
       "      <td>0</td>\n",
       "      <td>0</td>\n",
       "      <td>0</td>\n",
       "      <td>0</td>\n",
       "      <td>1</td>\n",
       "      <td>0</td>\n",
       "      <td>0</td>\n",
       "      <td>0</td>\n",
       "      <td>0</td>\n",
       "    </tr>\n",
       "    <tr>\n",
       "      <td>1</td>\n",
       "      <td>2718</td>\n",
       "      <td>1967</td>\n",
       "      <td>1967.0</td>\n",
       "      <td>580.0</td>\n",
       "      <td>2.0</td>\n",
       "      <td>2.0</td>\n",
       "      <td>42</td>\n",
       "      <td>42</td>\n",
       "      <td>10</td>\n",
       "      <td>0.0</td>\n",
       "      <td>...</td>\n",
       "      <td>0</td>\n",
       "      <td>0</td>\n",
       "      <td>0</td>\n",
       "      <td>0</td>\n",
       "      <td>0</td>\n",
       "      <td>0</td>\n",
       "      <td>0</td>\n",
       "      <td>0</td>\n",
       "      <td>0</td>\n",
       "      <td>0</td>\n",
       "    </tr>\n",
       "    <tr>\n",
       "      <td>2</td>\n",
       "      <td>2414</td>\n",
       "      <td>1496</td>\n",
       "      <td>654.0</td>\n",
       "      <td>426.0</td>\n",
       "      <td>2.0</td>\n",
       "      <td>4.0</td>\n",
       "      <td>13</td>\n",
       "      <td>13</td>\n",
       "      <td>7</td>\n",
       "      <td>0.0</td>\n",
       "      <td>...</td>\n",
       "      <td>0</td>\n",
       "      <td>0</td>\n",
       "      <td>0</td>\n",
       "      <td>0</td>\n",
       "      <td>0</td>\n",
       "      <td>0</td>\n",
       "      <td>0</td>\n",
       "      <td>0</td>\n",
       "      <td>0</td>\n",
       "      <td>0</td>\n",
       "    </tr>\n",
       "    <tr>\n",
       "      <td>3</td>\n",
       "      <td>1989</td>\n",
       "      <td>968</td>\n",
       "      <td>968.0</td>\n",
       "      <td>480.0</td>\n",
       "      <td>2.0</td>\n",
       "      <td>1.0</td>\n",
       "      <td>96</td>\n",
       "      <td>13</td>\n",
       "      <td>5</td>\n",
       "      <td>0.0</td>\n",
       "      <td>...</td>\n",
       "      <td>0</td>\n",
       "      <td>0</td>\n",
       "      <td>0</td>\n",
       "      <td>0</td>\n",
       "      <td>0</td>\n",
       "      <td>1</td>\n",
       "      <td>0</td>\n",
       "      <td>0</td>\n",
       "      <td>0</td>\n",
       "      <td>0</td>\n",
       "    </tr>\n",
       "    <tr>\n",
       "      <td>4</td>\n",
       "      <td>625</td>\n",
       "      <td>1394</td>\n",
       "      <td>1394.0</td>\n",
       "      <td>514.0</td>\n",
       "      <td>2.0</td>\n",
       "      <td>3.0</td>\n",
       "      <td>56</td>\n",
       "      <td>56</td>\n",
       "      <td>6</td>\n",
       "      <td>247.0</td>\n",
       "      <td>...</td>\n",
       "      <td>0</td>\n",
       "      <td>0</td>\n",
       "      <td>0</td>\n",
       "      <td>0</td>\n",
       "      <td>0</td>\n",
       "      <td>0</td>\n",
       "      <td>0</td>\n",
       "      <td>0</td>\n",
       "      <td>0</td>\n",
       "      <td>0</td>\n",
       "    </tr>\n",
       "  </tbody>\n",
       "</table>\n",
       "<p>5 rows × 132 columns</p>\n",
       "</div>"
      ],
      "text/plain": [
       "     Id  Gr Liv Area  Total Bsmt SF  Garage Area  Garage Cars  Total Bath  \\\n",
       "0  2658         1928         1020.0        440.0          1.0         2.0   \n",
       "1  2718         1967         1967.0        580.0          2.0         2.0   \n",
       "2  2414         1496          654.0        426.0          2.0         4.0   \n",
       "3  1989          968          968.0        480.0          2.0         1.0   \n",
       "4   625         1394         1394.0        514.0          2.0         3.0   \n",
       "\n",
       "   age_property  age_renovated  TotRms AbvGrd  Mas Vnr Area  ...  \\\n",
       "0           109             69              9           0.0  ...   \n",
       "1            42             42             10           0.0  ...   \n",
       "2            13             13              7           0.0  ...   \n",
       "3            96             13              5           0.0  ...   \n",
       "4            56             56              6         247.0  ...   \n",
       "\n",
       "   Garage Type_CarPort  Exterior 1st_AsphShn  Lot Config_FR2  Lot Config_FR3  \\\n",
       "0                    0                     0               0               0   \n",
       "1                    0                     0               0               0   \n",
       "2                    0                     0               0               0   \n",
       "3                    0                     0               0               0   \n",
       "4                    0                     0               0               0   \n",
       "\n",
       "   Heating_Grav  MS Zoning_RM  Exterior 2nd_ImStucc  Neighborhood_Greens  \\\n",
       "0             0             1                     0                    0   \n",
       "1             0             0                     0                    0   \n",
       "2             0             0                     0                    0   \n",
       "3             0             1                     0                    0   \n",
       "4             0             0                     0                    0   \n",
       "\n",
       "   Sale Type_ConLw  Neighborhood_Edwards  \n",
       "0                0                     0  \n",
       "1                0                     0  \n",
       "2                0                     0  \n",
       "3                0                     0  \n",
       "4                0                     0  \n",
       "\n",
       "[5 rows x 132 columns]"
      ]
     },
     "execution_count": 4,
     "metadata": {},
     "output_type": "execute_result"
    }
   ],
   "source": [
    "df_test.head()"
   ]
  },
  {
   "cell_type": "code",
   "execution_count": 5,
   "metadata": {},
   "outputs": [
    {
     "data": {
      "text/plain": [
       "(879, 132)"
      ]
     },
     "execution_count": 5,
     "metadata": {},
     "output_type": "execute_result"
    }
   ],
   "source": [
    "df_test.shape"
   ]
  },
  {
   "cell_type": "markdown",
   "metadata": {},
   "source": [
    "### Features to model"
   ]
  },
  {
   "cell_type": "code",
   "execution_count": 9,
   "metadata": {},
   "outputs": [],
   "source": [
    "features =df_train.columns.drop(['SalePrice', 'Id'])"
   ]
  },
  {
   "cell_type": "code",
   "execution_count": 6,
   "metadata": {
    "scrolled": true
   },
   "outputs": [
    {
     "data": {
      "text/plain": [
       "131"
      ]
     },
     "execution_count": 6,
     "metadata": {},
     "output_type": "execute_result"
    }
   ],
   "source": [
    "len(df_train.columns.drop(['SalePrice', 'Id'])) "
   ]
  },
  {
   "cell_type": "markdown",
   "metadata": {},
   "source": [
    "Attempt using MLR without any transformation"
   ]
  },
  {
   "cell_type": "code",
   "execution_count": 11,
   "metadata": {},
   "outputs": [],
   "source": [
    "lr = LinearRegression()"
   ]
  },
  {
   "cell_type": "code",
   "execution_count": 12,
   "metadata": {},
   "outputs": [],
   "source": [
    "X = df_train[features]\n",
    "y = df_train['SalePrice']"
   ]
  },
  {
   "cell_type": "code",
   "execution_count": 13,
   "metadata": {},
   "outputs": [],
   "source": [
    "model = lr.fit(X,y)"
   ]
  },
  {
   "cell_type": "code",
   "execution_count": 14,
   "metadata": {},
   "outputs": [
    {
     "name": "stdout",
     "output_type": "stream",
     "text": [
      "0.9013841961823447\n"
     ]
    }
   ],
   "source": [
    "predictions = model.predict(X)\n",
    "score = model.score(X,y)\n",
    "print(score)"
   ]
  },
  {
   "cell_type": "markdown",
   "metadata": {},
   "source": [
    "1. The overall prediction score of 0.9 shall be use as a baseline to test for the result of other models. \n",
    "2. This score though above 90% (suggesting towards a highly co-linear relation) has too many features. "
   ]
  },
  {
   "cell_type": "markdown",
   "metadata": {},
   "source": [
    "## Model Prep: Train/test split\n",
    "### Decide on Ridge or lasso regression\n",
    "##### On a smaller note this model has the best RMSE among all models.(Please refer to the bottom part on more inferential visualization)"
   ]
  },
  {
   "cell_type": "code",
   "execution_count": 15,
   "metadata": {},
   "outputs": [
    {
     "data": {
      "text/plain": [
       "((1636, 131), (409, 131), (1636,), (409,))"
      ]
     },
     "execution_count": 15,
     "metadata": {},
     "output_type": "execute_result"
    }
   ],
   "source": [
    "X_train, X_test, y_train, y_test = train_test_split(X,y,test_size = 0.2,random_state=27)\n",
    "X_train.shape, X_test.shape, y_train.shape, y_test.shape"
   ]
  },
  {
   "cell_type": "code",
   "execution_count": 16,
   "metadata": {},
   "outputs": [
    {
     "name": "stderr",
     "output_type": "stream",
     "text": [
      "/Users/YLChua/anaconda3/lib/python3.7/site-packages/sklearn/preprocessing/data.py:645: DataConversionWarning: Data with input dtype int64, float64 were all converted to float64 by StandardScaler.\n",
      "  return self.partial_fit(X, y)\n",
      "/Users/YLChua/anaconda3/lib/python3.7/site-packages/sklearn/base.py:464: DataConversionWarning: Data with input dtype int64, float64 were all converted to float64 by StandardScaler.\n",
      "  return self.fit(X, **fit_params).transform(X)\n",
      "/Users/YLChua/anaconda3/lib/python3.7/site-packages/ipykernel_launcher.py:3: DataConversionWarning: Data with input dtype int64, float64 were all converted to float64 by StandardScaler.\n",
      "  This is separate from the ipykernel package so we can avoid doing imports until\n"
     ]
    }
   ],
   "source": [
    "ss = StandardScaler()\n",
    "X_train_ss = ss.fit_transform(X_train)\n",
    "X_test_ss = ss.transform(X_test)"
   ]
  },
  {
   "cell_type": "code",
   "execution_count": 17,
   "metadata": {},
   "outputs": [
    {
     "name": "stderr",
     "output_type": "stream",
     "text": [
      "/Users/YLChua/anaconda3/lib/python3.7/site-packages/sklearn/linear_model/coordinate_descent.py:492: ConvergenceWarning: Objective did not converge. You might want to increase the number of iterations. Fitting data with very small alpha may cause precision problems.\n",
      "  ConvergenceWarning)\n"
     ]
    }
   ],
   "source": [
    "lasso_search = LassoCV(alphas = np.arange(0.001, 1.0, 0.001))\n",
    "lasso_search.fit(X_train_ss,y_train)\n",
    "lasso = Lasso(alpha= lasso_search.alpha_)"
   ]
  },
  {
   "cell_type": "code",
   "execution_count": 18,
   "metadata": {},
   "outputs": [],
   "source": [
    "ridge_search = RidgeCV(alphas=np.logspace(0,5,200),store_cv_values=True)\n",
    "ridge_search.fit(X_train_ss,y_train)\n",
    "\n",
    "ridge = Ridge(alpha= ridge_search.alpha_)"
   ]
  },
  {
   "cell_type": "code",
   "execution_count": 22,
   "metadata": {},
   "outputs": [],
   "source": [
    "# combine types of regression\n",
    "def regression(reg_list,X_train_ss, X_test_ss, y_train, y_test,features):\n",
    "    coeff=[]\n",
    "    for reg in reg_list:\n",
    "        print('shape of data for train and test: ',X_train_ss.shape, X_test_ss.shape, y_train.shape, y_test.shape)\n",
    "        score = cross_val_score(reg, X_train_ss, y_train, cv = 10)\n",
    "        reg.fit(X_train_ss,y_train)\n",
    "        \n",
    "        pred = reg.predict(X_test_ss)\n",
    "        r2score = r2_score(y_test, pred)\n",
    "        rmse= np.sqrt(mean_squared_error(y_test, pred))\n",
    "        print(reg)\n",
    "        print('{} score: {}'.format(str(reg).split('(')[0],score))\n",
    "        print('{} mean score: {}'.format(str(reg).split('(')[0],score.mean()))\n",
    "        print('R2 score:', r2score)\n",
    "        print('test RMSE:', rmse)\n",
    "        print(' ')\n",
    "#         pd.Series(reg.coef_,index =features ).plot.bar(figsize=(15,7))\n",
    "#         plt.show()\n",
    "#         print(' ')\n",
    "        reg_coeff =dict(zip(features,(reg.coef_)))\n",
    "        coeff.append(reg_coeff)\n",
    "    return coeff   "
   ]
  },
  {
   "cell_type": "code",
   "execution_count": 23,
   "metadata": {
    "scrolled": true
   },
   "outputs": [
    {
     "name": "stdout",
     "output_type": "stream",
     "text": [
      "shape of data for train and test (1636, 131) (409, 131) (1636,) (409,)\n",
      "Ridge(alpha=136.67163564620074, copy_X=True, fit_intercept=True,\n",
      "   max_iter=None, normalize=False, random_state=None, solver='auto',\n",
      "   tol=0.001)\n",
      "Ridge score: [0.81009461 0.83203448 0.83296059 0.92498134 0.88020718 0.8388286\n",
      " 0.90978068 0.88193226 0.83702841 0.90093576]\n",
      "Ridge mean score: 0.8648783917328835\n",
      "R2 score: 0.8575752218153536\n",
      "test RMSE: 27117.201008652246\n",
      " \n",
      "shape of data for train and test (1636, 131) (409, 131) (1636,) (409,)\n",
      "Lasso(alpha=0.999, copy_X=True, fit_intercept=True, max_iter=1000,\n",
      "   normalize=False, positive=False, precompute=False, random_state=None,\n",
      "   selection='cyclic', tol=0.0001, warm_start=False)\n",
      "Lasso score: [0.80244195 0.80047328 0.8535056  0.93124089 0.88835947 0.84412282\n",
      " 0.91392632 0.88294867 0.8629146  0.91276978]\n",
      "Lasso mean score: 0.869270337421065\n",
      "R2 score: 0.8664086876197101\n",
      "test RMSE: 26262.81005436359\n",
      " \n"
     ]
    }
   ],
   "source": [
    "reg_list = [ridge,lasso]\n",
    "coeff = regression(reg_list,X_train, X_test, y_train, y_test,features)"
   ]
  },
  {
   "cell_type": "markdown",
   "metadata": {},
   "source": [
    "Overall R2 score for Ridge is lower while RSME score for Lasso is lower. "
   ]
  },
  {
   "cell_type": "markdown",
   "metadata": {},
   "source": [
    "However with both scores are extremely close to each other, we will use both model for the next part\n",
    "1. Model top 25 features with high correlation to target variable sale price"
   ]
  },
  {
   "cell_type": "code",
   "execution_count": 24,
   "metadata": {},
   "outputs": [],
   "source": [
    "ridge_coeff = coeff[0]\n",
    "lasso_coeff = coeff[1]"
   ]
  },
  {
   "cell_type": "code",
   "execution_count": 25,
   "metadata": {
    "scrolled": true
   },
   "outputs": [],
   "source": [
    "ridge_coeff_df = pd.DataFrame(list(ridge_coeff.items()),columns=['Features','Coefficient'])\n"
   ]
  },
  {
   "cell_type": "code",
   "execution_count": 26,
   "metadata": {},
   "outputs": [],
   "source": [
    "#obtaining the top 25 features\n",
    "ridge_coeff_df['abs coeff']= abs(ridge_coeff_df['Coefficient'])"
   ]
  },
  {
   "cell_type": "code",
   "execution_count": 27,
   "metadata": {
    "scrolled": true
   },
   "outputs": [
    {
     "name": "stdout",
     "output_type": "stream",
     "text": [
      "['Overall Qual', 'Sale Type_New', 'Neighborhood_NridgHt', 'Mas Vnr Type_BrkFace', 'Bldg Type_TwnhsE', 'Neighborhood_StoneBr', 'Total Bath', 'Neighborhood_NWAmes', 'Fireplaces', 'Bldg Type_Duplex', 'Roof Style_Hip', 'Neighborhood_Gilbert', 'Land Contour_Lvl', 'Land Contour_HLS', 'Bldg Type_Twnhs', 'MS Zoning_RL', 'Mas Vnr Type_None', 'Mas Vnr Type_Stone', 'Lot Config_CulDSac', 'Exterior 1st_CemntBd', 'Exterior 2nd_CmentBd', 'Exterior 1st_BrkFace', 'Foundation_Slab', 'Exterior 1st_Plywood', 'MS Zoning_RM']\n"
     ]
    }
   ],
   "source": [
    "features_model_2 =ridge_coeff_df.sort_values('abs coeff', ascending = False).head(25)['Features'].tolist()\n",
    "\n",
    "print(features_model_2)\n",
    "X = df_train[features_model_2]\n",
    "y = df_train['SalePrice']"
   ]
  },
  {
   "cell_type": "code",
   "execution_count": 28,
   "metadata": {},
   "outputs": [
    {
     "name": "stdout",
     "output_type": "stream",
     "text": [
      "(1636, 25) (409, 25) (1636,) (409,)\n"
     ]
    },
    {
     "name": "stderr",
     "output_type": "stream",
     "text": [
      "/Users/YLChua/anaconda3/lib/python3.7/site-packages/sklearn/preprocessing/data.py:645: DataConversionWarning: Data with input dtype int64, float64 were all converted to float64 by StandardScaler.\n",
      "  return self.partial_fit(X, y)\n",
      "/Users/YLChua/anaconda3/lib/python3.7/site-packages/sklearn/base.py:464: DataConversionWarning: Data with input dtype int64, float64 were all converted to float64 by StandardScaler.\n",
      "  return self.fit(X, **fit_params).transform(X)\n",
      "/Users/YLChua/anaconda3/lib/python3.7/site-packages/ipykernel_launcher.py:8: DataConversionWarning: Data with input dtype int64, float64 were all converted to float64 by StandardScaler.\n",
      "  \n"
     ]
    }
   ],
   "source": [
    "#Test run model with top 25 features\n",
    "\n",
    "X_train, X_test, y_train, y_test = train_test_split(X,y,test_size = 0.2,random_state=27)\n",
    "print(X_train.shape, X_test.shape, y_train.shape, y_test.shape)\n",
    "\n",
    "ss = StandardScaler()\n",
    "X_train_ss = ss.fit_transform(X_train)\n",
    "X_test_ss = ss.transform(X_test)\n",
    "\n",
    "lasso_search = LassoCV(alphas = np.arange(0.001, 1.0, 0.001))\n",
    "lasso_search.fit(X_train_ss,y_train)\n",
    "lasso = Lasso(alpha= lasso_search.alpha_)\n",
    "\n",
    "ridge_search = RidgeCV(alphas=np.logspace(0,5,200),store_cv_values=True)\n",
    "ridge_search.fit(X_train_ss,y_train)\n",
    "\n",
    "ridge = Ridge(alpha= ridge_search.alpha_)\n",
    "\n",
    "reg_list =[ridge,lasso]\n"
   ]
  },
  {
   "cell_type": "code",
   "execution_count": 29,
   "metadata": {},
   "outputs": [
    {
     "name": "stdout",
     "output_type": "stream",
     "text": [
      "shape of data for train and test (1636, 25) (409, 25) (1636,) (409,)\n",
      "Ridge(alpha=3.0018358135755894, copy_X=True, fit_intercept=True,\n",
      "   max_iter=None, normalize=False, random_state=None, solver='auto',\n",
      "   tol=0.001)\n",
      "Ridge score: [0.74909325 0.75646135 0.78305732 0.86109914 0.80645394 0.74452905\n",
      " 0.85355162 0.80539689 0.78747171 0.84314609]\n",
      "Ridge mean score: 0.7990260345481921\n",
      "R2 score: 0.7941840490132231\n",
      "test RMSE: 32598.048347434247\n",
      " \n",
      "shape of data for train and test (1636, 25) (409, 25) (1636,) (409,)\n",
      "Lasso(alpha=0.001, copy_X=True, fit_intercept=True, max_iter=1000,\n",
      "   normalize=False, positive=False, precompute=False, random_state=None,\n",
      "   selection='cyclic', tol=0.0001, warm_start=False)\n",
      "Lasso score: [0.74839842 0.75564714 0.78187756 0.85936332 0.80663025 0.7460977\n",
      " 0.85264195 0.80515758 0.79072988 0.84541653]\n",
      "Lasso mean score: 0.7991960327650119\n",
      "R2 score: 0.7953418827402451\n",
      "test RMSE: 32506.22759402992\n",
      " \n"
     ]
    }
   ],
   "source": [
    "coeff_model_2 = regression(reg_list,X_train, X_test, y_train, y_test,features_model_2)"
   ]
  },
  {
   "cell_type": "markdown",
   "metadata": {},
   "source": [
    "Using both models, overall RMSE for lasso test data is slightly lower. "
   ]
  },
  {
   "cell_type": "code",
   "execution_count": 86,
   "metadata": {},
   "outputs": [
    {
     "name": "stdout",
     "output_type": "stream",
     "text": [
      "(1636, 25) (409, 25) (1636,) (409,)\n",
      "Ridge score: [0.74814334 0.75578898 0.78188442 0.85965765 0.80704127 0.74542464\n",
      " 0.85280618 0.80501996 0.7906435  0.84536857]\n",
      "Ridge mean score: 0.79917785121134\n",
      "{'Gr Liv Area': 37130.12337728335, 'Total Bsmt SF': 7073.453925874879, 'Garage Area': 13186.19925128755, 'Garage Cars': 12183.430669503581, 'Total Bath': 11054.53605764239, 'age_property': 7021.2782915568205, 'age_renovated': 21479.96023079488, 'TotRms AbvGrd': 2861.8656460201355, 'Mas Vnr Area': 10081.089160452571, 'Fireplaces': 3226.48474971368, 'Overall Qual': 5129.405028620471, 'Bsmt Qual': 4622.384814697305, 'Garage Finish': 1102.6064113263367, 'Fireplace Qu': 2288.9609714162757, 'Heating QC': 9472.865462797108, 'Exterior 1st_MetalSd': 2362.7737504363745, 'Exterior 1st_VinylSd': 9239.638023295121, 'Neighborhood_MeadowV': 9660.761694298079, 'Neighborhood_StoneBr': 3389.2915158761493, 'Neighborhood_SWISU': 2693.6390807088915, 'House Style_SLvl': 2693.6390807083803, 'Garage Type_Detchd': 4496.698450132543, 'Exterior 2nd_HdBoard': 825.2729542760933, 'Foundation_Slab': 522.1125039049194, 'Neighborhood_NoRidge': 5062.324564693994}\n"
     ]
    },
    {
     "name": "stderr",
     "output_type": "stream",
     "text": [
      "/Users/YLChua/anaconda3/lib/python3.7/site-packages/sklearn/preprocessing/data.py:645: DataConversionWarning: Data with input dtype int64, float64 were all converted to float64 by StandardScaler.\n",
      "  return self.partial_fit(X, y)\n",
      "/Users/YLChua/anaconda3/lib/python3.7/site-packages/sklearn/base.py:464: DataConversionWarning: Data with input dtype int64, float64 were all converted to float64 by StandardScaler.\n",
      "  return self.fit(X, **fit_params).transform(X)\n",
      "/Users/YLChua/anaconda3/lib/python3.7/site-packages/sklearn/preprocessing/data.py:645: DataConversionWarning: Data with input dtype int64, float64 were all converted to float64 by StandardScaler.\n",
      "  return self.partial_fit(X, y)\n",
      "/Users/YLChua/anaconda3/lib/python3.7/site-packages/sklearn/base.py:464: DataConversionWarning: Data with input dtype int64, float64 were all converted to float64 by StandardScaler.\n",
      "  return self.fit(X, **fit_params).transform(X)\n"
     ]
    },
    {
     "data": {
      "image/png": "[encoded data removed]",
      "text/plain": [
       "<Figure size 1080x504 with 1 Axes>"
      ]
     },
     "metadata": {
      "needs_background": "light"
     },
     "output_type": "display_data"
    },
    {
     "name": "stdout",
     "output_type": "stream",
     "text": [
      " \n"
     ]
    }
   ],
   "source": [
    "# use ridge model to do initial kaggle submission\n",
    "#obtaining the top 25 features\n",
    "\n",
    "X = df_train[features_model_2]\n",
    "y = df_train['SalePrice']\n",
    "\n",
    "coeff=[]\n",
    "#Test run model with top 25 features\n",
    "\n",
    "X_train, X_test, y_train, y_test = train_test_split(X,y,test_size = 0.2,random_state=27)\n",
    "print(X_train.shape, X_test.shape, y_train.shape, y_test.shape)\n",
    "\n",
    "ss = StandardScaler()\n",
    "X_train_ss = ss.fit_transform(X_train)\n",
    "X_test_ss  = ss.fit_transform(df_test[features_model_2])\n",
    "\n",
    "ridge_search = RidgeCV(alphas=np.logspace(0,5,200),store_cv_values=True)\n",
    "ridge_search.fit(X_train_ss,y_train)\n",
    "ridge = Ridge(alpha= ridge_search.alpha_)\n",
    "\n",
    "reg_list =[ridge]\n",
    "for reg in reg_list:\n",
    "\n",
    "        score = cross_val_score(reg, X_train_ss, y_train, cv = 10)\n",
    "        reg.fit(X_train_ss,y_train)\n",
    "        \n",
    "        pred = reg.predict(X_test_ss)\n",
    "        print('{} score: {}'.format(str(reg).split('(')[0],score))\n",
    "        print('{} mean score: {}'.format(str(reg).split('(')[0],score.mean()))\n",
    "\n",
    "        reg_coeff =dict(zip(features,abs(reg.coef_)))\n",
    "\n",
    "        print(reg_coeff)\n",
    "        \n",
    "        pd.Series(reg.coef_,index =features_model_2 ).plot.bar(figsize=(15,7))\n",
    "        plt.show()\n",
    "        print(' ')\n",
    "        coeff.append(reg_coeff)"
   ]
  },
  {
   "cell_type": "code",
   "execution_count": 65,
   "metadata": {},
   "outputs": [],
   "source": [
    "submission_df(pred)def submission_df(predict):\n",
    "    df = pd.DataFrame(df_test['Id'])\n",
    "    df['SalePrice'] = predict\n",
    "    df.set_index(['Id'], inplace = True)\n",
    "    df.to_csv('./data/answer.csv')"
   ]
  },
  {
   "cell_type": "code",
   "execution_count": 66,
   "metadata": {},
   "outputs": [],
   "source": [
    "submission_df(pred)"
   ]
  },
  {
   "cell_type": "markdown",
   "metadata": {},
   "source": [
    "Private Score 32448.99709\n",
    "Public Score  33052.82339"
   ]
  },
  {
   "cell_type": "code",
   "execution_count": 67,
   "metadata": {},
   "outputs": [
    {
     "name": "stdout",
     "output_type": "stream",
     "text": [
      "(1636, 25) (409, 25) (1636,) (409,)\n"
     ]
    },
    {
     "name": "stderr",
     "output_type": "stream",
     "text": [
      "/Users/YLChua/anaconda3/lib/python3.7/site-packages/sklearn/preprocessing/data.py:645: DataConversionWarning: Data with input dtype int64, float64 were all converted to float64 by StandardScaler.\n",
      "  return self.partial_fit(X, y)\n",
      "/Users/YLChua/anaconda3/lib/python3.7/site-packages/sklearn/base.py:464: DataConversionWarning: Data with input dtype int64, float64 were all converted to float64 by StandardScaler.\n",
      "  return self.fit(X, **fit_params).transform(X)\n",
      "/Users/YLChua/anaconda3/lib/python3.7/site-packages/sklearn/preprocessing/data.py:645: DataConversionWarning: Data with input dtype int64, float64 were all converted to float64 by StandardScaler.\n",
      "  return self.partial_fit(X, y)\n",
      "/Users/YLChua/anaconda3/lib/python3.7/site-packages/sklearn/base.py:464: DataConversionWarning: Data with input dtype int64, float64 were all converted to float64 by StandardScaler.\n",
      "  return self.fit(X, **fit_params).transform(X)\n"
     ]
    },
    {
     "name": "stdout",
     "output_type": "stream",
     "text": [
      "Lasso score: [0.74839843 0.75564714 0.78187756 0.8593633  0.80663023 0.74609773\n",
      " 0.85264192 0.80515757 0.79072991 0.84541657]\n",
      "Lasso mean score: 0.7991960348936208\n",
      " \n"
     ]
    },
    {
     "data": {
      "image/png": "[encoded data removed]",
      "text/plain": [
       "<Figure size 1080x504 with 1 Axes>"
      ]
     },
     "metadata": {
      "needs_background": "light"
     },
     "output_type": "display_data"
    },
    {
     "name": "stdout",
     "output_type": "stream",
     "text": [
      " \n"
     ]
    }
   ],
   "source": [
    "# use ridge model to do initial kaggle submission\n",
    "#obtaining the top 25 features\n",
    "\n",
    "X = df_train[features_model_2]\n",
    "y = df_train['SalePrice']\n",
    "\n",
    "coeff=[]\n",
    "#Test run model with top 25 features\n",
    "\n",
    "X_train, X_test, y_train, y_test = train_test_split(X,y,test_size = 0.2,random_state=27)\n",
    "print(X_train.shape, X_test.shape, y_train.shape, y_test.shape)\n",
    "\n",
    "ss = StandardScaler()\n",
    "X_train_ss = ss.fit_transform(X_train)\n",
    "X_test_ss  = ss.fit_transform(df_test[features_model_2])\n",
    "\n",
    "lasso_search = LassoCV(alphas = np.arange(0.001, 1.0, 0.001))\n",
    "lasso_search.fit(X_train_ss,y_train)\n",
    "lasso = Lasso(alpha= lasso_search.alpha_)\n",
    "\n",
    "reg_list =[lasso]\n",
    "for reg in reg_list:\n",
    "\n",
    "        score = cross_val_score(reg, X_train_ss, y_train, cv = 10)\n",
    "        reg.fit(X_train_ss,y_train)\n",
    "        \n",
    "        pred = reg.predict(X_test_ss)\n",
    "        print('{} score: {}'.format(str(reg).split('(')[0],score))\n",
    "        print('{} mean score: {}'.format(str(reg).split('(')[0],score.mean()))\n",
    "        print(' ')\n",
    "        \n",
    "        pd.Series(reg.coef_,index =features_model_2 ).plot.bar(figsize=(15,7))\n",
    "        plt.show()\n",
    "        print(' ')\n",
    "        reg_coeff =dict(zip(features,abs(reg.coef_)))\n",
    "        coeff.append(reg_coeff)"
   ]
  },
  {
   "cell_type": "code",
   "execution_count": 68,
   "metadata": {},
   "outputs": [],
   "source": [
    "submission_df(pred)"
   ]
  },
  {
   "cell_type": "markdown",
   "metadata": {},
   "source": [
    "#### Kaggle Submission\n",
    "Private Score 32348.99703\n",
    "Public Score  33352.82335"
   ]
  },
  {
   "cell_type": "markdown",
   "metadata": {},
   "source": [
    "### Attempt with all 133 features\n",
    "This produce a better result some how ><\""
   ]
  },
  {
   "cell_type": "code",
   "execution_count": 71,
   "metadata": {
    "scrolled": false
   },
   "outputs": [
    {
     "name": "stdout",
     "output_type": "stream",
     "text": [
      "(1636, 131) (409, 131) (1636,) (409,)\n"
     ]
    },
    {
     "name": "stderr",
     "output_type": "stream",
     "text": [
      "/Users/YLChua/anaconda3/lib/python3.7/site-packages/sklearn/preprocessing/data.py:645: DataConversionWarning: Data with input dtype int64, float64 were all converted to float64 by StandardScaler.\n",
      "  return self.partial_fit(X, y)\n",
      "/Users/YLChua/anaconda3/lib/python3.7/site-packages/sklearn/base.py:464: DataConversionWarning: Data with input dtype int64, float64 were all converted to float64 by StandardScaler.\n",
      "  return self.fit(X, **fit_params).transform(X)\n",
      "/Users/YLChua/anaconda3/lib/python3.7/site-packages/sklearn/preprocessing/data.py:645: DataConversionWarning: Data with input dtype int64, float64 were all converted to float64 by StandardScaler.\n",
      "  return self.partial_fit(X, y)\n",
      "/Users/YLChua/anaconda3/lib/python3.7/site-packages/sklearn/base.py:464: DataConversionWarning: Data with input dtype int64, float64 were all converted to float64 by StandardScaler.\n",
      "  return self.fit(X, **fit_params).transform(X)\n",
      "/Users/YLChua/anaconda3/lib/python3.7/site-packages/ipykernel_launcher.py:16: DataConversionWarning: Data with input dtype int64, float64 were all converted to float64 by StandardScaler.\n",
      "  app.launch_new_instance()\n"
     ]
    },
    {
     "name": "stdout",
     "output_type": "stream",
     "text": [
      "Ridge score: [0.82278515 0.81289846 0.85736691 0.93488267 0.88426109 0.8382682\n",
      " 0.91635547 0.8812537  0.85928063 0.91270461]\n",
      "Ridge mean score: 0.8720056904366198\n",
      " \n",
      " \n"
     ]
    }
   ],
   "source": [
    "# use ridge model to do initial kaggle submission\n",
    "#obtaining the all features\n",
    "\n",
    "X = df_train[features]\n",
    "y = df_train['SalePrice']\n",
    "\n",
    "coeff=[]\n",
    "#Test run model with top 25 features\n",
    "\n",
    "X_train, X_test, y_train, y_test = train_test_split(X,y,test_size = 0.2,random_state=27)\n",
    "print(X_train.shape, X_test.shape, y_train.shape, y_test.shape)\n",
    "\n",
    "ss = StandardScaler()\n",
    "X_train_ss = ss.fit_transform(X_train)\n",
    "X_test_ss  = ss.fit_transform(df_test[features])\n",
    "X_test_train_ss = ss.transform(X_test)\n",
    "\n",
    "ridge_search = RidgeCV(alphas=np.logspace(0,5,200),store_cv_values=True)\n",
    "ridge_search.fit(X_train_ss,y_train)\n",
    "ridge = Ridge(alpha= ridge_search.alpha_)\n",
    "\n",
    "reg_list =[ridge]\n",
    "for reg in reg_list:\n",
    "\n",
    "        score = cross_val_score(reg, X_train_ss, y_train, cv = 10)\n",
    "        reg.fit(X_train_ss,y_train)\n",
    "        pred = reg.predict(X_test_ss)\n",
    "        print('{} score: {}'.format(str(reg).split('(')[0],score))\n",
    "        print('{} mean score: {}'.format(str(reg).split('(')[0],score.mean()))\n",
    "        print(' ')\n",
    "#         pd.Series(reg.coef_,index =features ).plot.bar(figsize=(15,7))\n",
    "#         plt.show()\n",
    "        print(' ')\n",
    "        reg_coeff =dict(zip(features,abs(reg.coef_)))\n",
    "        coeff.append(reg_coeff)"
   ]
  },
  {
   "cell_type": "code",
   "execution_count": 72,
   "metadata": {},
   "outputs": [
    {
     "data": {
      "text/plain": [
       "{'Gr Liv Area': 17573.36652792517,\n",
       " 'Total Bsmt SF': 11840.089405129402,\n",
       " 'Garage Area': 6302.36785891713,\n",
       " 'Garage Cars': 909.2103125177363,\n",
       " 'Total Bath': 8552.975188927607,\n",
       " 'age_property': 2930.5853008514246,\n",
       " 'age_renovated': 5510.1066472329285,\n",
       " 'TotRms AbvGrd': 1847.3385127409088,\n",
       " 'Mas Vnr Area': 8586.234664865604,\n",
       " 'Fireplaces': 4797.572171592171,\n",
       " 'Overall Qual': 13945.759868591078,\n",
       " 'Bsmt Qual': 3153.068551021053,\n",
       " 'Garage Finish': 1363.5444894991983,\n",
       " 'Fireplace Qu': 113.92603979672678,\n",
       " 'Heating QC': 2158.012748679962,\n",
       " 'Exterior 1st_MetalSd': 196.52585944115242,\n",
       " 'Exterior 1st_VinylSd': 866.1211310051358,\n",
       " 'Neighborhood_MeadowV': 574.7664114309803,\n",
       " 'Neighborhood_StoneBr': 5434.305223292464,\n",
       " 'Neighborhood_SWISU': 1153.344669740302,\n",
       " 'House Style_SLvl': 7.450113972798276,\n",
       " 'Garage Type_Detchd': 1389.7627380421122,\n",
       " 'Exterior 2nd_HdBoard': 663.2755425932256,\n",
       " 'Foundation_Slab': 3655.3209845930605,\n",
       " 'Neighborhood_NoRidge': 3695.4379981491697,\n",
       " 'Land Contour_HLS': 2124.7837326210106,\n",
       " 'Exterior 1st_Wd Sdng': 728.0100249222623,\n",
       " 'Neighborhood_NridgHt': 7801.70627940591,\n",
       " 'Garage Type_BuiltIn': 237.51970875934293,\n",
       " 'Exterior 1st_BrkFace': 3104.557489178263,\n",
       " 'Condition 1_Feedr': 397.4826704304513,\n",
       " 'Exterior 2nd_CBlock': 6.383633822453648,\n",
       " 'Roof Matl_Tar&Grv': 495.5847537298744,\n",
       " 'Condition 2_Norm': 316.71501464536806,\n",
       " 'Neighborhood_OldTown': 879.911449622702,\n",
       " 'Foundation_PConc': 1664.1860286623514,\n",
       " 'Sale Type_Oth': 1176.7256220743257,\n",
       " 'Bldg Type_TwnhsE': 6051.26270107906,\n",
       " 'House Style_2.5Fin': 282.2285548026417,\n",
       " 'Foundation_Wood': 677.8445739807863,\n",
       " 'Condition 1_RRNn': 90.81159962063508,\n",
       " 'Neighborhood_SawyerW': 1027.7304663133193,\n",
       " 'MS Zoning_RL': 1869.1764707712,\n",
       " 'Garage Type_Basment': 474.9480564674699,\n",
       " 'Bldg Type_2fmCon': 883.4313223736829,\n",
       " 'Neighborhood_Timber': 681.2640089136285,\n",
       " 'Mas Vnr Type_BrkFace': 1537.4227513026642,\n",
       " 'Exterior 2nd_CmentBd': 1477.8597159984126,\n",
       " 'Foundation_Stone': 445.9821675254602,\n",
       " 'Street_Pave': 568.6218483846973,\n",
       " 'Exterior 2nd_VinylSd': 633.078350328353,\n",
       " 'Neighborhood_NAmes': 2341.667838561112,\n",
       " 'Roof Style_Gable': 745.3897710685361,\n",
       " 'Neighborhood_Crawfor': 1894.9112471256494,\n",
       " 'Exterior 2nd_Stucco': 639.5507508728634,\n",
       " 'Condition 1_Norm': 1852.4563511318272,\n",
       " 'Condition 2_PosA': 1614.4200324009996,\n",
       " 'Exterior 1st_Stucco': 650.8179437700754,\n",
       " 'MS Zoning_FV': 1188.6865173817657,\n",
       " 'Garage Type_Attchd': 865.5200016369992,\n",
       " 'Sale Type_New': 5869.375945318073,\n",
       " 'Land Contour_Lvl': 367.81425537140007,\n",
       " 'Mas Vnr Type_None': 2306.7048276714704,\n",
       " 'Roof Style_Mansard': 3415.4019611513413,\n",
       " 'Exterior 1st_BrkComm': 1020.0605805604843,\n",
       " 'Exterior 2nd_AsphShn': 1701.2277397269768,\n",
       " 'Exterior 2nd_Wd Shng': 1666.1239479773499,\n",
       " 'Sale Type_ConLD': 236.27703362300184,\n",
       " 'House Style_2.5Unf': 13.798942315851988,\n",
       " 'Neighborhood_Mitchel': 232.0810680535742,\n",
       " 'Neighborhood_ClearCr': 262.34509548708814,\n",
       " 'MS Zoning_RH': 640.1903349453937,\n",
       " 'Exterior 2nd_Brk Cmn': 157.84955982565572,\n",
       " 'Neighborhood_Sawyer': 42.175578973622045,\n",
       " 'Neighborhood_Somerst': 379.2599849956136,\n",
       " 'Sale Type_Con': 1173.1745719383873,\n",
       " 'Bldg Type_Duplex': 4074.9612596763454,\n",
       " 'Roof Style_Hip': 2076.10086197849,\n",
       " 'Roof Matl_WdShngl': 2849.9609902852253,\n",
       " 'Exterior 2nd_Wd Sdng': 806.4402156840808,\n",
       " 'Neighborhood_NWAmes': 2788.161683716291,\n",
       " 'Exterior 1st_CemntBd': 1477.8597159983751,\n",
       " 'Neighborhood_Gilbert': 3261.388720463247,\n",
       " 'Neighborhood_NPkVill': 192.8670467408139,\n",
       " 'Condition 2_PosN': 1021.2889534989888,\n",
       " 'House Style_SFoyer': 1869.1687167243037,\n",
       " 'Neighborhood_Veenker': 1100.1555030816007,\n",
       " 'Central Air_Y': 9.593280968692817,\n",
       " 'Roof Style_Shed': 473.6933809913386,\n",
       " 'Condition 1_PosN': 1670.600006497056,\n",
       " 'Condition 1_RRAe': 1060.9140192396483,\n",
       " 'Bldg Type_Twnhs': 4885.401234135139,\n",
       " 'Heating_GasW': 282.2121483271163,\n",
       " 'Lot Config_CulDSac': 2162.6360508855246,\n",
       " 'Mas Vnr Type_Stone': 2471.820110315465,\n",
       " 'Roof Matl_WdShake': 1206.3241369429995,\n",
       " 'Condition 1_RRAn': 289.04712830081326,\n",
       " 'Lot Config_Inside': 261.1469489984465,\n",
       " 'Neighborhood_BrDale': 714.1346388230714,\n",
       " 'Exterior 2nd_MetalSd': 1128.517221985501,\n",
       " 'House Style_1Story': 1476.5126225130666,\n",
       " 'Condition 1_PosA': 1845.4676266959357,\n",
       " 'Sale Type_CWD': 132.43028492709468,\n",
       " 'Sale Type_WD ': 1329.3595460479823,\n",
       " 'Exterior 1st_WdShing': 1198.8771130812167,\n",
       " 'MS Zoning_I (all)': 1241.7576108440855,\n",
       " 'Exterior 1st_Plywood': 437.7639060774777,\n",
       " 'Exterior 1st_HdBoard': 1350.5731495249897,\n",
       " 'Condition 1_RRNe': 624.8164296447035,\n",
       " 'Exterior 2nd_BrkFace': 970.7390962720137,\n",
       " 'Sale Type_ConLI': 522.0426477599965,\n",
       " 'Exterior 2nd_Plywood': 846.9682246950543,\n",
       " 'Neighborhood_IDOTRR': 771.4908745825692,\n",
       " 'Land Contour_Low': 1133.3598853860212,\n",
       " 'Foundation_CBlock': 653.3168322713933,\n",
       " 'Neighborhood_Blueste': 137.08972666336552,\n",
       " 'House Style_1.5Unf': 899.4757140497803,\n",
       " 'Neighborhood_BrkSide': 555.2097800516102,\n",
       " 'Roof Style_Gambrel': 649.3221250483888,\n",
       " 'Neighborhood_CollgCr': 1688.7652149013115,\n",
       " 'House Style_2Story': 363.0875779338968,\n",
       " 'Garage Type_CarPort': 879.9378800903459,\n",
       " 'Exterior 1st_AsphShn': 729.383894580908,\n",
       " 'Lot Config_FR2': 519.4776633601064,\n",
       " 'Lot Config_FR3': 114.61775980902016,\n",
       " 'Heating_Grav': 116.97850331832456,\n",
       " 'MS Zoning_RM': 926.048592425975,\n",
       " 'Exterior 2nd_ImStucc': 366.9387190668314,\n",
       " 'Neighborhood_Greens': 1078.8813884479928,\n",
       " 'Sale Type_ConLw': 307.39334949249394,\n",
       " 'Neighborhood_Edwards': 2098.6499604681003}"
      ]
     },
     "execution_count": 72,
     "metadata": {},
     "output_type": "execute_result"
    }
   ],
   "source": [
    "coeff[0]"
   ]
  },
  {
   "cell_type": "code",
   "execution_count": 73,
   "metadata": {},
   "outputs": [],
   "source": [
    "#this is for data visualation later on\n",
    "ridge_coeff_df_final = pd.DataFrame(list(coeff[0].items()),columns=['Features','Coefficient'])\n",
    "pred_final = ridge.predict(X_test_train_ss)\n",
    "y_train_final = y_test"
   ]
  },
  {
   "cell_type": "code",
   "execution_count": 74,
   "metadata": {},
   "outputs": [
    {
     "data": {
      "text/plain": [
       "879"
      ]
     },
     "execution_count": 74,
     "metadata": {},
     "output_type": "execute_result"
    }
   ],
   "source": [
    "len(pred)"
   ]
  },
  {
   "cell_type": "code",
   "execution_count": 75,
   "metadata": {},
   "outputs": [
    {
     "data": {
      "text/plain": [
       "409"
      ]
     },
     "execution_count": 75,
     "metadata": {},
     "output_type": "execute_result"
    }
   ],
   "source": [
    "len(y_test)"
   ]
  },
  {
   "cell_type": "code",
   "execution_count": 76,
   "metadata": {},
   "outputs": [],
   "source": [
    "submission_df(pred)"
   ]
  },
  {
   "cell_type": "markdown",
   "metadata": {},
   "source": [
    "#### Kaggle Submission\n",
    "Private Score 31534.80371\n",
    "Public Score  32709.07920"
   ]
  },
  {
   "cell_type": "markdown",
   "metadata": {},
   "source": [
    "### Applying polynominal features to top 25\n",
    "Number of features = 350"
   ]
  },
  {
   "cell_type": "markdown",
   "metadata": {},
   "source": [
    "As part of this project, the instructor suggest limiting the number of features to 25 . Hence Reduce the number of polynominal features to 25"
   ]
  },
  {
   "cell_type": "code",
   "execution_count": 78,
   "metadata": {},
   "outputs": [],
   "source": [
    "poly = PolynomialFeatures(include_bias=False) #degree = 2"
   ]
  },
  {
   "cell_type": "code",
   "execution_count": 79,
   "metadata": {},
   "outputs": [],
   "source": [
    "X = df_train[features_model_2]\n",
    "y = df_train['SalePrice']"
   ]
  },
  {
   "cell_type": "code",
   "execution_count": 80,
   "metadata": {},
   "outputs": [],
   "source": [
    "X_poly      = poly.fit_transform(X)\n",
    "X_test_poly = poly.fit_transform(df_test[features_model_2])\n",
    "\n",
    "df_train_poly = pd.DataFrame(X_poly,columns = poly.get_feature_names(features_model_2))\n",
    "df_test_poly = pd.DataFrame(X_test_poly,columns = poly.get_feature_names(features_model_2))\n",
    "X= df_train_poly"
   ]
  },
  {
   "cell_type": "code",
   "execution_count": 81,
   "metadata": {},
   "outputs": [
    {
     "name": "stdout",
     "output_type": "stream",
     "text": [
      "(1636, 350) (409, 350) (1636,) (409,)\n",
      "Ridge score: [0.77157061 0.79873324 0.83270734 0.87219209 0.82627555 0.73880072\n",
      " 0.85732325 0.84281881 0.83442542 0.86951092]\n",
      "Ridge mean score: 0.8244357948357596\n",
      " \n",
      " \n"
     ]
    }
   ],
   "source": [
    "# use train-test split and ridge model to do initial kaggle submission\n",
    "\n",
    "#Test run model with top 25 features\n",
    "coeff=[]\n",
    "X_train, X_test, y_train, y_test = train_test_split(X,y,test_size = 0.2,random_state=27)\n",
    "print(X_train.shape, X_test.shape, y_train.shape, y_test.shape)\n",
    "\n",
    "ss = StandardScaler()\n",
    "X_train_ss = ss.fit_transform(X_train)\n",
    "X_test_ss  = ss.fit_transform(df_test_poly)\n",
    "\n",
    "ridge_search = RidgeCV(alphas=np.logspace(0,5,200),store_cv_values=True)\n",
    "ridge_search.fit(X_train_ss,y_train)\n",
    "ridge = Ridge(alpha= ridge_search.alpha_)\n",
    "\n",
    "score = cross_val_score(ridge, X_train_ss, y_train, cv = 10)\n",
    "ridge.fit(X_train_ss,y_train)\n",
    "\n",
    "pred = ridge.predict(X_test_ss)\n",
    "print('{} score: {}'.format(str(reg).split('(')[0],score))\n",
    "print('{} mean score: {}'.format(str(reg).split('(')[0],score.mean()))\n",
    "print(' ')\n",
    "# pd.Series(ridge.coef_,index =df_train_poly.columns ).plot.bar(figsize=(15,7))\n",
    "# plt.show()\n",
    "print(' ')\n",
    "reg_coeff =dict(zip(df_train_poly.columns.tolist(),abs(ridge.coef_)))\n",
    "coeff.append(reg_coeff)"
   ]
  },
  {
   "cell_type": "code",
   "execution_count": 83,
   "metadata": {},
   "outputs": [
    {
     "data": {
      "text/html": [
       "<div>\n",
       "<style scoped>\n",
       "    .dataframe tbody tr th:only-of-type {\n",
       "        vertical-align: middle;\n",
       "    }\n",
       "\n",
       "    .dataframe tbody tr th {\n",
       "        vertical-align: top;\n",
       "    }\n",
       "\n",
       "    .dataframe thead th {\n",
       "        text-align: right;\n",
       "    }\n",
       "</style>\n",
       "<table border=\"1\" class=\"dataframe\">\n",
       "  <thead>\n",
       "    <tr style=\"text-align: right;\">\n",
       "      <th></th>\n",
       "      <th>Features</th>\n",
       "      <th>Coefficient</th>\n",
       "    </tr>\n",
       "  </thead>\n",
       "  <tbody>\n",
       "    <tr>\n",
       "      <td>0</td>\n",
       "      <td>Overall Qual</td>\n",
       "      <td>10401.590978</td>\n",
       "    </tr>\n",
       "    <tr>\n",
       "      <td>1</td>\n",
       "      <td>Sale Type_New</td>\n",
       "      <td>620.616679</td>\n",
       "    </tr>\n",
       "    <tr>\n",
       "      <td>2</td>\n",
       "      <td>Neighborhood_NridgHt</td>\n",
       "      <td>882.416203</td>\n",
       "    </tr>\n",
       "    <tr>\n",
       "      <td>3</td>\n",
       "      <td>Mas Vnr Type_BrkFace</td>\n",
       "      <td>699.498662</td>\n",
       "    </tr>\n",
       "    <tr>\n",
       "      <td>4</td>\n",
       "      <td>Bldg Type_TwnhsE</td>\n",
       "      <td>508.502220</td>\n",
       "    </tr>\n",
       "  </tbody>\n",
       "</table>\n",
       "</div>"
      ],
      "text/plain": [
       "               Features   Coefficient\n",
       "0          Overall Qual  10401.590978\n",
       "1         Sale Type_New    620.616679\n",
       "2  Neighborhood_NridgHt    882.416203\n",
       "3  Mas Vnr Type_BrkFace    699.498662\n",
       "4      Bldg Type_TwnhsE    508.502220"
      ]
     },
     "execution_count": 83,
     "metadata": {},
     "output_type": "execute_result"
    }
   ],
   "source": [
    "ridge_coeff_df_poly = pd.DataFrame(list(coeff[0].items()),columns=['Features','Coefficient'])\n",
    "ridge_coeff_df_poly.head()"
   ]
  },
  {
   "cell_type": "code",
   "execution_count": 38,
   "metadata": {},
   "outputs": [],
   "source": [
    "submission_df(pred)"
   ]
  },
  {
   "cell_type": "markdown",
   "metadata": {},
   "source": [
    "#### Kaggle Submission\n",
    "Private Score 31544.80371 Public Score 32809.07920"
   ]
  },
  {
   "cell_type": "code",
   "execution_count": 39,
   "metadata": {},
   "outputs": [
    {
     "data": {
      "text/plain": [
       "['Overall Qual^2',\n",
       " 'Overall Qual Total Bath',\n",
       " 'Overall Qual',\n",
       " 'Overall Qual Fireplaces',\n",
       " 'Total Bath',\n",
       " 'Total Bath Fireplaces',\n",
       " 'Overall Qual Land Contour_Lvl',\n",
       " 'Total Bath^2',\n",
       " 'Overall Qual Mas Vnr Type_BrkFace',\n",
       " 'Overall Qual Roof Style_Hip',\n",
       " 'Total Bath Exterior 1st_BrkFace',\n",
       " 'Total Bath Bldg Type_Duplex',\n",
       " 'Overall Qual House Style_1Story',\n",
       " 'Overall Qual MS Zoning_RL',\n",
       " 'Sale Type_New Roof Style_Hip',\n",
       " 'Mas Vnr Type_BrkFace Total Bath',\n",
       " 'Neighborhood_NridgHt Fireplaces',\n",
       " 'Fireplaces Mas Vnr Type_Stone',\n",
       " 'MS Zoning_RL Land Contour_Lvl',\n",
       " 'Roof Style_Hip Neighborhood_Gilbert',\n",
       " 'Overall Qual Mas Vnr Type_Stone',\n",
       " 'Neighborhood_NridgHt Bldg Type_TwnhsE',\n",
       " 'Neighborhood_StoneBr Fireplaces',\n",
       " 'Total Bath MS Zoning_RL',\n",
       " 'Total Bath Land Contour_Lvl']"
      ]
     },
     "execution_count": 39,
     "metadata": {},
     "output_type": "execute_result"
    }
   ],
   "source": [
    "features_model_3 =ridge_coeff_df_poly.sort_values('Coefficient', ascending = False).head(25)['Features'].tolist()\n",
    "features_model_3"
   ]
  },
  {
   "cell_type": "markdown",
   "metadata": {},
   "source": [
    "### Running Top 25 polynomial features from 350 polynomial Features"
   ]
  },
  {
   "cell_type": "code",
   "execution_count": 40,
   "metadata": {},
   "outputs": [
    {
     "name": "stdout",
     "output_type": "stream",
     "text": [
      "(1636, 25) (409, 25) (1636,) (409,)\n",
      "Ridge score: [0.7823665  0.80114236 0.81777631 0.87949028 0.81624089 0.77198061\n",
      " 0.82557806 0.83597244 0.80452325 0.86091609]\n",
      "Ridge mean score: 0.8195986785427685\n",
      " \n"
     ]
    },
    {
     "data": {
      "image/png": "[encoded data removed]",
      "text/plain": [
       "<Figure size 1080x504 with 1 Axes>"
      ]
     },
     "metadata": {
      "needs_background": "light"
     },
     "output_type": "display_data"
    },
    {
     "name": "stdout",
     "output_type": "stream",
     "text": [
      " \n"
     ]
    }
   ],
   "source": [
    "X = df_train_poly[features_model_3]\n",
    "y = df_train['SalePrice']\n",
    "\n",
    "coeff=[]\n",
    "#Test run model with top 25 features\n",
    "\n",
    "X_train, X_test, y_train, y_test = train_test_split(X,y,test_size = 0.2,random_state=27)\n",
    "print(X_train.shape, X_test.shape, y_train.shape, y_test.shape)\n",
    "\n",
    "ss = StandardScaler()\n",
    "X_train_ss = ss.fit_transform(X_train)\n",
    "X_test_ss  = ss.fit_transform(df_test_poly[features_model_3])\n",
    "\n",
    "ridge_search = RidgeCV(alphas=np.logspace(0,5,200),store_cv_values=True)\n",
    "ridge_search.fit(X_train_ss,y_train)\n",
    "ridge = Ridge(alpha= ridge_search.alpha_)\n",
    "\n",
    "reg_list =[ridge]\n",
    "for reg in reg_list:\n",
    "\n",
    "        score = cross_val_score(reg, X_train_ss, y_train, cv = 10)\n",
    "        reg.fit(X_train_ss,y_train)\n",
    "        \n",
    "        pred = reg.predict(X_test_ss)\n",
    "        print('{} score: {}'.format(str(reg).split('(')[0],score))\n",
    "        print('{} mean score: {}'.format(str(reg).split('(')[0],score.mean()))\n",
    "        print(' ')\n",
    "        pd.Series(reg.coef_,index =features_model_3 ).plot.bar(figsize=(15,7))\n",
    "        plt.show()\n",
    "        print(' ')\n",
    "        reg_coeff =dict(zip(features,abs(reg.coef_)))\n",
    "        coeff.append(reg_coeff)"
   ]
  },
  {
   "cell_type": "code",
   "execution_count": 41,
   "metadata": {},
   "outputs": [],
   "source": [
    "submission_df(pred)"
   ]
  },
  {
   "cell_type": "markdown",
   "metadata": {},
   "source": [
    "#### Kaggle Submission\n",
    "Private Score 31534.80371 Public Score 32709.07920"
   ]
  },
  {
   "cell_type": "markdown",
   "metadata": {},
   "source": [
    "# Modelling Visulation and results"
   ]
  },
  {
   "cell_type": "markdown",
   "metadata": {},
   "source": [
    "### From Kaggle submission, best RMSE value model with close results were obtain from the model consisting of 134 predictors Without polynomial features. \n",
    "1. Public : 32709\n",
    "2. Private: 31534\n",
    "\n",
    "The Following inferential Visualization will look at the features and various metrics of the model."
   ]
  },
  {
   "cell_type": "code",
   "execution_count": 42,
   "metadata": {},
   "outputs": [],
   "source": [
    "ridge_coeff_df.sort_values(by='Coefficient', inplace = True, ascending = False)\n",
    "ridge_coeff_df.drop(columns ='abs coeff',inplace = True)"
   ]
  },
  {
   "cell_type": "code",
   "execution_count": 43,
   "metadata": {},
   "outputs": [
    {
     "data": {
      "text/html": [
       "<div>\n",
       "<style scoped>\n",
       "    .dataframe tbody tr th:only-of-type {\n",
       "        vertical-align: middle;\n",
       "    }\n",
       "\n",
       "    .dataframe tbody tr th {\n",
       "        vertical-align: top;\n",
       "    }\n",
       "\n",
       "    .dataframe thead th {\n",
       "        text-align: right;\n",
       "    }\n",
       "</style>\n",
       "<table border=\"1\" class=\"dataframe\">\n",
       "  <thead>\n",
       "    <tr style=\"text-align: right;\">\n",
       "      <th></th>\n",
       "      <th>Features</th>\n",
       "      <th>Coefficient</th>\n",
       "    </tr>\n",
       "  </thead>\n",
       "  <tbody>\n",
       "    <tr>\n",
       "      <th>9</th>\n",
       "      <td>Overall Qual</td>\n",
       "      <td>11993.063816</td>\n",
       "    </tr>\n",
       "    <tr>\n",
       "      <th>109</th>\n",
       "      <td>Sale Type_New</td>\n",
       "      <td>9259.067492</td>\n",
       "    </tr>\n",
       "  </tbody>\n",
       "</table>\n",
       "</div>"
      ],
      "text/plain": [
       "          Features   Coefficient\n",
       "9     Overall Qual  11993.063816\n",
       "109  Sale Type_New   9259.067492"
      ]
     },
     "execution_count": 43,
     "metadata": {},
     "output_type": "execute_result"
    }
   ],
   "source": [
    "ridge_coeff_df.head(2)"
   ]
  },
  {
   "cell_type": "code",
   "execution_count": 44,
   "metadata": {
    "scrolled": true
   },
   "outputs": [
    {
     "data": {
      "image/png": "[encoded data removed]",
      "text/plain": [
       "<Figure size 576x576 with 1 Axes>"
      ]
     },
     "metadata": {
      "needs_background": "light"
     },
     "output_type": "display_data"
    }
   ],
   "source": [
    "plt.figure(figsize=(8,8))\n",
    "sns.barplot(x='Coefficient', y = 'Features', data = ridge_coeff_df[:25],ci = 'sd');\n",
    "plt.ylabel('Positive Coefficient Features')\n",
    "plt.show()"
   ]
  },
  {
   "cell_type": "code",
   "execution_count": 45,
   "metadata": {
    "scrolled": true
   },
   "outputs": [
    {
     "data": {
      "image/png": "[encoded data removed]",
      "text/plain": [
       "<Figure size 576x576 with 1 Axes>"
      ]
     },
     "metadata": {
      "needs_background": "light"
     },
     "output_type": "display_data"
    }
   ],
   "source": [
    "plt.figure(figsize=(8,8))\n",
    "sns.barplot(x='Coefficient', y = 'Features', data = ridge_coeff_df[-25:],ci = 'sd');\n",
    "plt.ylabel('Negative Coefficient Features')\n",
    "plt.show()"
   ]
  },
  {
   "cell_type": "code",
   "execution_count": 46,
   "metadata": {},
   "outputs": [
    {
     "name": "stderr",
     "output_type": "stream",
     "text": [
      "/anaconda3/lib/python3.7/site-packages/sklearn/preprocessing/data.py:645: DataConversionWarning: Data with input dtype int64, float64 were all converted to float64 by StandardScaler.\n",
      "  return self.partial_fit(X, y)\n",
      "/anaconda3/lib/python3.7/site-packages/sklearn/base.py:464: DataConversionWarning: Data with input dtype int64, float64 were all converted to float64 by StandardScaler.\n",
      "  return self.fit(X, **fit_params).transform(X)\n",
      "/anaconda3/lib/python3.7/site-packages/sklearn/preprocessing/data.py:645: DataConversionWarning: Data with input dtype int64, float64 were all converted to float64 by StandardScaler.\n",
      "  return self.partial_fit(X, y)\n",
      "/anaconda3/lib/python3.7/site-packages/sklearn/base.py:464: DataConversionWarning: Data with input dtype int64, float64 were all converted to float64 by StandardScaler.\n",
      "  return self.fit(X, **fit_params).transform(X)\n"
     ]
    }
   ],
   "source": [
    "# use ridge model to do initial kaggle submission\n",
    "#obtaining the all features\n",
    "\n",
    "X = df_train[features]\n",
    "y = df_train['SalePrice']\n",
    "coeff=[]\n",
    "X_train, X_test, y_train, y_test = train_test_split(X,y,test_size = 0.2,random_state=27)\n",
    "\n",
    "ss = StandardScaler()\n",
    "X_train_ss = ss.fit_transform(X_train)\n",
    "X_test_ss  = ss.fit_transform(X_test)\n",
    "\n",
    "ridge_search = RidgeCV(alphas=np.logspace(0,5,200),store_cv_values=True)\n",
    "ridge_search.fit(X_train_ss,y_train)\n",
    "ridge = Ridge(alpha= ridge_search.alpha_)\n",
    "\n",
    "reg_list =[ridge]\n",
    "for reg in reg_list:\n",
    "\n",
    "        score = cross_val_score(reg, X_train_ss, y_train, cv = 10)\n",
    "        reg.fit(X_train_ss,y_train)\n",
    "        pred = reg.predict(X_test_ss)\n",
    "        \n",
    "        reg_coeff =dict(zip(features,abs(reg.coef_)))\n",
    "        coeff.append(reg_coeff)"
   ]
  },
  {
   "cell_type": "code",
   "execution_count": 47,
   "metadata": {
    "scrolled": true
   },
   "outputs": [
    {
     "data": {
      "image/png": "[encoded data removed]",
      "text/plain": [
       "<Figure size 648x648 with 1 Axes>"
      ]
     },
     "metadata": {
      "needs_background": "light"
     },
     "output_type": "display_data"
    }
   ],
   "source": [
    "# Look at prediction accuracy\n",
    "plot_df = pd.DataFrame()\n",
    "\n",
    "plot_df['true'], plot_df['pred'] = y_train_final, pred\n",
    "sns.lmplot(x='true', y='pred', data=plot_df, height=9)\n",
    "plt.title('Scatter Plot of Predicted vs. True Price')\n",
    "plt.xlabel('True Price')\n",
    "plt.ylabel('Predicted Price')\n",
    "plt.show()"
   ]
  },
  {
   "cell_type": "code",
   "execution_count": 48,
   "metadata": {
    "scrolled": true
   },
   "outputs": [
    {
     "data": {
      "image/png": "[encoded data removed]",
      "text/plain": [
       "<Figure size 720x576 with 1 Axes>"
      ]
     },
     "metadata": {},
     "output_type": "display_data"
    }
   ],
   "source": [
    "# Check whether the residual errors follow a normal distribution?\n",
    "plot_df['resid'] = plot_df['true'] - plot_df['pred']\n",
    "plt.figure(figsize=(10,8), facecolor='white')\n",
    "sns.distplot(plot_df['resid'], fit=stats.norm)\n",
    "plt.title('Distribution of Residual Errors')\n",
    "plt.show()"
   ]
  },
  {
   "cell_type": "markdown",
   "metadata": {},
   "source": [
    "\n",
    "> <font size = 3 color = \"crimson\"> So what if it's normal or not? What is the point you are trying to make?\n",
    "</font>"
   ]
  },
  {
   "cell_type": "markdown",
   "metadata": {},
   "source": [
    "##  Recommendations\n",
    "---"
   ]
  },
  {
   "cell_type": "code",
   "execution_count": 49,
   "metadata": {
    "scrolled": false
   },
   "outputs": [
    {
     "data": {
      "text/html": [
       "<div>\n",
       "<style scoped>\n",
       "    .dataframe tbody tr th:only-of-type {\n",
       "        vertical-align: middle;\n",
       "    }\n",
       "\n",
       "    .dataframe tbody tr th {\n",
       "        vertical-align: top;\n",
       "    }\n",
       "\n",
       "    .dataframe thead th {\n",
       "        text-align: right;\n",
       "    }\n",
       "</style>\n",
       "<table border=\"1\" class=\"dataframe\">\n",
       "  <thead>\n",
       "    <tr style=\"text-align: right;\">\n",
       "      <th></th>\n",
       "      <th>Features</th>\n",
       "      <th>Coefficient</th>\n",
       "    </tr>\n",
       "  </thead>\n",
       "  <tbody>\n",
       "    <tr>\n",
       "      <th>9</th>\n",
       "      <td>Overall Qual</td>\n",
       "      <td>11993.063816</td>\n",
       "    </tr>\n",
       "    <tr>\n",
       "      <th>109</th>\n",
       "      <td>Sale Type_New</td>\n",
       "      <td>9259.067492</td>\n",
       "    </tr>\n",
       "    <tr>\n",
       "      <th>42</th>\n",
       "      <td>Neighborhood_NridgHt</td>\n",
       "      <td>9034.907395</td>\n",
       "    </tr>\n",
       "    <tr>\n",
       "      <th>4</th>\n",
       "      <td>Total Bath</td>\n",
       "      <td>6275.980407</td>\n",
       "    </tr>\n",
       "    <tr>\n",
       "      <th>36</th>\n",
       "      <td>Neighborhood_StoneBr</td>\n",
       "      <td>5993.889078</td>\n",
       "    </tr>\n",
       "    <tr>\n",
       "      <th>99</th>\n",
       "      <td>Roof Style_Hip</td>\n",
       "      <td>4531.170178</td>\n",
       "    </tr>\n",
       "    <tr>\n",
       "      <th>126</th>\n",
       "      <td>MS Zoning_RL</td>\n",
       "      <td>4525.870836</td>\n",
       "    </tr>\n",
       "    <tr>\n",
       "      <th>77</th>\n",
       "      <td>Land Contour_HLS</td>\n",
       "      <td>4483.087531</td>\n",
       "    </tr>\n",
       "    <tr>\n",
       "      <th>8</th>\n",
       "      <td>Fireplaces</td>\n",
       "      <td>4472.804223</td>\n",
       "    </tr>\n",
       "    <tr>\n",
       "      <th>25</th>\n",
       "      <td>Mas Vnr Type_Stone</td>\n",
       "      <td>4379.664379</td>\n",
       "    </tr>\n",
       "    <tr>\n",
       "      <th>83</th>\n",
       "      <td>Lot Config_CulDSac</td>\n",
       "      <td>4030.242811</td>\n",
       "    </tr>\n",
       "    <tr>\n",
       "      <th>64</th>\n",
       "      <td>Mas Vnr Type_None</td>\n",
       "      <td>3986.485134</td>\n",
       "    </tr>\n",
       "    <tr>\n",
       "      <th>58</th>\n",
       "      <td>Exterior 2nd_CmentBd</td>\n",
       "      <td>3889.697683</td>\n",
       "    </tr>\n",
       "    <tr>\n",
       "      <th>86</th>\n",
       "      <td>Exterior 1st_CemntBd</td>\n",
       "      <td>3889.697683</td>\n",
       "    </tr>\n",
       "    <tr>\n",
       "      <th>34</th>\n",
       "      <td>Foundation_Slab</td>\n",
       "      <td>3854.542289</td>\n",
       "    </tr>\n",
       "    <tr>\n",
       "      <th>69</th>\n",
       "      <td>Exterior 1st_BrkFace</td>\n",
       "      <td>3789.766729</td>\n",
       "    </tr>\n",
       "    <tr>\n",
       "      <th>103</th>\n",
       "      <td>House Style_1Story</td>\n",
       "      <td>3467.162412</td>\n",
       "    </tr>\n",
       "    <tr>\n",
       "      <th>94</th>\n",
       "      <td>Neighborhood_NoRidge</td>\n",
       "      <td>3067.303174</td>\n",
       "    </tr>\n",
       "    <tr>\n",
       "      <th>32</th>\n",
       "      <td>Condition 1_Norm</td>\n",
       "      <td>2837.665547</td>\n",
       "    </tr>\n",
       "    <tr>\n",
       "      <th>13</th>\n",
       "      <td>Heating QC</td>\n",
       "      <td>2457.110203</td>\n",
       "    </tr>\n",
       "  </tbody>\n",
       "</table>\n",
       "</div>"
      ],
      "text/plain": [
       "                 Features   Coefficient\n",
       "9            Overall Qual  11993.063816\n",
       "109         Sale Type_New   9259.067492\n",
       "42   Neighborhood_NridgHt   9034.907395\n",
       "4              Total Bath   6275.980407\n",
       "36   Neighborhood_StoneBr   5993.889078\n",
       "99         Roof Style_Hip   4531.170178\n",
       "126          MS Zoning_RL   4525.870836\n",
       "77       Land Contour_HLS   4483.087531\n",
       "8              Fireplaces   4472.804223\n",
       "25     Mas Vnr Type_Stone   4379.664379\n",
       "83     Lot Config_CulDSac   4030.242811\n",
       "64      Mas Vnr Type_None   3986.485134\n",
       "58   Exterior 2nd_CmentBd   3889.697683\n",
       "86   Exterior 1st_CemntBd   3889.697683\n",
       "34        Foundation_Slab   3854.542289\n",
       "69   Exterior 1st_BrkFace   3789.766729\n",
       "103    House Style_1Story   3467.162412\n",
       "94   Neighborhood_NoRidge   3067.303174\n",
       "32       Condition 1_Norm   2837.665547\n",
       "13             Heating QC   2457.110203"
      ]
     },
     "execution_count": 49,
     "metadata": {},
     "output_type": "execute_result"
    }
   ],
   "source": [
    "ridge_coeff_df.sort_values(by='Coefficient', ascending=False).head(20)"
   ]
  },
  {
   "cell_type": "code",
   "execution_count": 50,
   "metadata": {
    "scrolled": false
   },
   "outputs": [
    {
     "data": {
      "text/html": [
       "<div>\n",
       "<style scoped>\n",
       "    .dataframe tbody tr th:only-of-type {\n",
       "        vertical-align: middle;\n",
       "    }\n",
       "\n",
       "    .dataframe tbody tr th {\n",
       "        vertical-align: top;\n",
       "    }\n",
       "\n",
       "    .dataframe thead th {\n",
       "        text-align: right;\n",
       "    }\n",
       "</style>\n",
       "<table border=\"1\" class=\"dataframe\">\n",
       "  <thead>\n",
       "    <tr style=\"text-align: right;\">\n",
       "      <th></th>\n",
       "      <th>Features</th>\n",
       "      <th>Coefficient</th>\n",
       "    </tr>\n",
       "  </thead>\n",
       "  <tbody>\n",
       "    <tr>\n",
       "      <th>80</th>\n",
       "      <td>Mas Vnr Type_BrkFace</td>\n",
       "      <td>-6780.496071</td>\n",
       "    </tr>\n",
       "    <tr>\n",
       "      <th>46</th>\n",
       "      <td>Bldg Type_TwnhsE</td>\n",
       "      <td>-5881.073591</td>\n",
       "    </tr>\n",
       "    <tr>\n",
       "      <th>14</th>\n",
       "      <td>Neighborhood_NWAmes</td>\n",
       "      <td>-4755.635035</td>\n",
       "    </tr>\n",
       "    <tr>\n",
       "      <th>52</th>\n",
       "      <td>Land Contour_Lvl</td>\n",
       "      <td>-4384.086891</td>\n",
       "    </tr>\n",
       "    <tr>\n",
       "      <th>98</th>\n",
       "      <td>Bldg Type_Duplex</td>\n",
       "      <td>-4190.717799</td>\n",
       "    </tr>\n",
       "    <tr>\n",
       "      <th>130</th>\n",
       "      <td>Neighborhood_Gilbert</td>\n",
       "      <td>-4089.741351</td>\n",
       "    </tr>\n",
       "    <tr>\n",
       "      <th>118</th>\n",
       "      <td>Bldg Type_Twnhs</td>\n",
       "      <td>-3931.396583</td>\n",
       "    </tr>\n",
       "    <tr>\n",
       "      <th>65</th>\n",
       "      <td>MS Zoning_RM</td>\n",
       "      <td>-3894.607260</td>\n",
       "    </tr>\n",
       "    <tr>\n",
       "      <th>48</th>\n",
       "      <td>Sale Type_WD</td>\n",
       "      <td>-3356.697528</td>\n",
       "    </tr>\n",
       "    <tr>\n",
       "      <th>129</th>\n",
       "      <td>Exterior 1st_Plywood</td>\n",
       "      <td>-3057.990762</td>\n",
       "    </tr>\n",
       "    <tr>\n",
       "      <th>68</th>\n",
       "      <td>Alley_Pave</td>\n",
       "      <td>-3051.769154</td>\n",
       "    </tr>\n",
       "    <tr>\n",
       "      <th>74</th>\n",
       "      <td>House Style_2Story</td>\n",
       "      <td>-2641.996768</td>\n",
       "    </tr>\n",
       "    <tr>\n",
       "      <th>35</th>\n",
       "      <td>Neighborhood_CollgCr</td>\n",
       "      <td>-2309.638219</td>\n",
       "    </tr>\n",
       "    <tr>\n",
       "      <th>93</th>\n",
       "      <td>Condition 1_Feedr</td>\n",
       "      <td>-2307.190079</td>\n",
       "    </tr>\n",
       "    <tr>\n",
       "      <th>22</th>\n",
       "      <td>Garage Type_Detchd</td>\n",
       "      <td>-2232.600452</td>\n",
       "    </tr>\n",
       "    <tr>\n",
       "      <th>97</th>\n",
       "      <td>Exterior 2nd_Plywood</td>\n",
       "      <td>-2180.331014</td>\n",
       "    </tr>\n",
       "    <tr>\n",
       "      <th>132</th>\n",
       "      <td>Neighborhood_SawyerW</td>\n",
       "      <td>-2152.920730</td>\n",
       "    </tr>\n",
       "    <tr>\n",
       "      <th>31</th>\n",
       "      <td>Exterior 1st_HdBoard</td>\n",
       "      <td>-2103.095175</td>\n",
       "    </tr>\n",
       "    <tr>\n",
       "      <th>73</th>\n",
       "      <td>Roof Style_Mansard</td>\n",
       "      <td>-2011.630515</td>\n",
       "    </tr>\n",
       "    <tr>\n",
       "      <th>104</th>\n",
       "      <td>Neighborhood_NAmes</td>\n",
       "      <td>-1967.792587</td>\n",
       "    </tr>\n",
       "  </tbody>\n",
       "</table>\n",
       "</div>"
      ],
      "text/plain": [
       "                 Features  Coefficient\n",
       "80   Mas Vnr Type_BrkFace -6780.496071\n",
       "46       Bldg Type_TwnhsE -5881.073591\n",
       "14    Neighborhood_NWAmes -4755.635035\n",
       "52       Land Contour_Lvl -4384.086891\n",
       "98       Bldg Type_Duplex -4190.717799\n",
       "130  Neighborhood_Gilbert -4089.741351\n",
       "118       Bldg Type_Twnhs -3931.396583\n",
       "65           MS Zoning_RM -3894.607260\n",
       "48          Sale Type_WD  -3356.697528\n",
       "129  Exterior 1st_Plywood -3057.990762\n",
       "68             Alley_Pave -3051.769154\n",
       "74     House Style_2Story -2641.996768\n",
       "35   Neighborhood_CollgCr -2309.638219\n",
       "93      Condition 1_Feedr -2307.190079\n",
       "22     Garage Type_Detchd -2232.600452\n",
       "97   Exterior 2nd_Plywood -2180.331014\n",
       "132  Neighborhood_SawyerW -2152.920730\n",
       "31   Exterior 1st_HdBoard -2103.095175\n",
       "73     Roof Style_Mansard -2011.630515\n",
       "104    Neighborhood_NAmes -1967.792587"
      ]
     },
     "execution_count": 50,
     "metadata": {},
     "output_type": "execute_result"
    }
   ],
   "source": [
    "ridge_coeff_df.sort_values(by='Coefficient', ascending=True).head(20)"
   ]
  },
  {
   "cell_type": "markdown",
   "metadata": {},
   "source": [
    "#### Which features appear to add the most value to a home?\n",
    "- The size of a home, such as above ground living area, first floor and basement area. For instance, a 1 square foot increase in above ground living area will on average increase \\$11000 in value to a home. \n",
    "- Overall quality rating of the material and finish of a house - a 1 unit increase in the quality rating will increase the value to a home by around \\$12000.\n",
    "\n",
    "\n",
    "#### Which features hurt the value of a home the most?\n",
    "- A townhouse building type will lower value by $5900\n",
    "- Brick Face Masonary Veener type will lower building price by \\$6780\n",
    "- For a house located in North Ames, its value is expected to be lower by \\$2300 in comparison to a house located in Bloomington Heights.\n",
    "\n",
    "#### What are things that homeowners could improve in their homes to increase the value?\n",
    "- Increasing the total number of bath\n",
    "- Number of Fireplaces\n",
    "\n",
    "#### What neighborhoods seem like they might be a good investment?\n",
    "- Northridge Heights approx \\$9000\n",
    "- Stone Brook        approx \\$6000\n",
    "- Northridge         approx \\$3000\n",
    "\n",
    "#### Do you feel that this model will generalize to other cities?\n",
    "- It depends on factors such as whether other cities have similar building types to Ames. I suspect the model will not work as well on cities with a high-density of high-rise apartments as many of the features in our current model are biased towards bungalows.\n",
    "- Features related to Ames city, such as neighborhood, will also have to be removed.\n",
    "\n",
    "#### How could you revise your model to make it more universal OR what factors would you need from another city to make a comparable model?\n",
    "- Group related features to generalize the model even further, such as overall size of home, binary variables for facilities, or distance to points of interests such as schools, supermarkets, etc."
   ]
  }
 ],
 "metadata": {
  "kernelspec": {
   "display_name": "Python 3",
   "language": "python",
   "name": "python3"
  },
  "language_info": {
   "codemirror_mode": {
    "name": "ipython",
    "version": 3
   },
   "file_extension": ".py",
   "mimetype": "text/x-python",
   "name": "python",
   "nbconvert_exporter": "python",
   "pygments_lexer": "ipython3",
   "version": "3.7.3"
  },
  "toc": {
   "base_numbering": 1,
   "nav_menu": {},
   "number_sections": true,
   "sideBar": true,
   "skip_h1_title": false,
   "title_cell": "Table of Contents",
   "title_sidebar": "Contents",
   "toc_cell": false,
   "toc_position": {},
   "toc_section_display": true,
   "toc_window_display": false
  }
 },
 "nbformat": 4,
 "nbformat_minor": 2
}
